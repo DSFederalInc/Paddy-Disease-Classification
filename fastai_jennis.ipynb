{
 "cells": [
  {
   "cell_type": "code",
   "execution_count": 1,
   "id": "6ea016e2",
   "metadata": {
    "execution": {
     "iopub.execute_input": "2022-08-15T18:07:49.597954Z",
     "iopub.status.busy": "2022-08-15T18:07:49.597445Z",
     "iopub.status.idle": "2022-08-15T18:08:12.299799Z",
     "shell.execute_reply": "2022-08-15T18:08:12.298585Z"
    },
    "papermill": {
     "duration": 22.710741,
     "end_time": "2022-08-15T18:08:12.302444",
     "exception": false,
     "start_time": "2022-08-15T18:07:49.591703",
     "status": "completed"
    },
    "tags": []
   },
   "outputs": [
    {
     "name": "stdout",
     "output_type": "stream",
     "text": [
      "Collecting fastai==2.7.1\r\n"
     ]
    },
    {
     "name": "stdout",
     "output_type": "stream",
     "text": [
      "  Downloading fastai-2.7.1-py3-none-any.whl (213 kB)\r\n",
      "\u001b[?25l     \u001b[90m━━━━━━━━━━━━━━━━━━━━━━━━━━━━━━━━━━━━━━━━\u001b[0m \u001b[32m0.0/213.6 kB\u001b[0m \u001b[31m?\u001b[0m eta \u001b[36m-:--:--\u001b[0m"
     ]
    },
    {
     "name": "stdout",
     "output_type": "stream",
     "text": [
      "\r",
      "\u001b[2K     \u001b[91m━━━━━━━\u001b[0m\u001b[91m╸\u001b[0m\u001b[90m━━━━━━━━━━━━━━━━━━━━━━━━━━━━━━━━\u001b[0m \u001b[32m41.0/213.6 kB\u001b[0m \u001b[31m1.4 MB/s\u001b[0m eta \u001b[36m0:00:01\u001b[0m\r",
      "\u001b[2K     \u001b[91m━━━━━━━\u001b[0m\u001b[91m╸\u001b[0m\u001b[90m━━━━━━━━━━━━━━━━━━━━━━━━━━━━━━━━\u001b[0m \u001b[32m41.0/213.6 kB\u001b[0m \u001b[31m1.4 MB/s\u001b[0m eta \u001b[36m0:00:01\u001b[0m"
     ]
    },
    {
     "name": "stdout",
     "output_type": "stream",
     "text": [
      "\r",
      "\u001b[2K     \u001b[91m━━━━━━━━━━━━━━━━\u001b[0m\u001b[90m╺\u001b[0m\u001b[90m━━━━━━━━━━━━━━━━━━━━━\u001b[0m \u001b[32m92.2/213.6 kB\u001b[0m \u001b[31m943.7 kB/s\u001b[0m eta \u001b[36m0:00:01\u001b[0m"
     ]
    },
    {
     "name": "stdout",
     "output_type": "stream",
     "text": [
      "\r",
      "\u001b[2K     \u001b[91m━━━━━━━━━━━━━━━━━━━━━━━━\u001b[0m\u001b[91m╸\u001b[0m\u001b[90m━━━━━━━━━━━━\u001b[0m \u001b[32m143.4/213.6 kB\u001b[0m \u001b[31m978.4 kB/s\u001b[0m eta \u001b[36m0:00:01\u001b[0m\r",
      "\u001b[2K     \u001b[90m━━━━━━━━━━━━━━━━━━━━━━━━━━━━━━━━━━━━━━━\u001b[0m \u001b[32m213.6/213.6 kB\u001b[0m \u001b[31m1.2 MB/s\u001b[0m eta \u001b[36m0:00:00\u001b[0m\r\n",
      "\u001b[?25h"
     ]
    },
    {
     "name": "stdout",
     "output_type": "stream",
     "text": [
      "Requirement already satisfied: scipy in /opt/conda/lib/python3.7/site-packages (from fastai==2.7.1) (1.7.3)\r\n",
      "Requirement already satisfied: pip in /opt/conda/lib/python3.7/site-packages (from fastai==2.7.1) (22.1.2)\r\n",
      "Requirement already satisfied: pillow>6.0.0 in /opt/conda/lib/python3.7/site-packages (from fastai==2.7.1) (9.1.1)\r\n",
      "Requirement already satisfied: fastdownload<2,>=0.0.5 in /opt/conda/lib/python3.7/site-packages (from fastai==2.7.1) (0.0.7)\r\n",
      "Requirement already satisfied: matplotlib in /opt/conda/lib/python3.7/site-packages (from fastai==2.7.1) (3.5.2)\r\n",
      "Requirement already satisfied: pyyaml in /opt/conda/lib/python3.7/site-packages (from fastai==2.7.1) (6.0)\r\n",
      "Requirement already satisfied: fastprogress>=0.2.4 in /opt/conda/lib/python3.7/site-packages (from fastai==2.7.1) (1.0.2)\r\n",
      "Requirement already satisfied: scikit-learn in /opt/conda/lib/python3.7/site-packages (from fastai==2.7.1) (1.0.2)\r\n",
      "Requirement already satisfied: requests in /opt/conda/lib/python3.7/site-packages (from fastai==2.7.1) (2.28.1)\r\n",
      "Requirement already satisfied: pandas in /opt/conda/lib/python3.7/site-packages (from fastai==2.7.1) (1.3.5)\r\n"
     ]
    },
    {
     "name": "stdout",
     "output_type": "stream",
     "text": [
      "Collecting fastcore<1.5,>=1.4.5\r\n"
     ]
    },
    {
     "name": "stdout",
     "output_type": "stream",
     "text": [
      "  Downloading fastcore-1.4.5-py3-none-any.whl (61 kB)\r\n",
      "\u001b[?25l     \u001b[90m━━━━━━━━━━━━━━━━━━━━━━━━━━━━━━━━━━━━━━━━\u001b[0m \u001b[32m0.0/61.3 kB\u001b[0m \u001b[31m?\u001b[0m eta \u001b[36m-:--:--\u001b[0m\r",
      "\u001b[2K     \u001b[90m━━━━━━━━━━━━━━━━━━━━━━━━━━━━━━━━━━━━━━━━\u001b[0m \u001b[32m61.3/61.3 kB\u001b[0m \u001b[31m4.1 MB/s\u001b[0m eta \u001b[36m0:00:00\u001b[0m\r\n",
      "\u001b[?25hRequirement already satisfied: torchvision>=0.8.2 in /opt/conda/lib/python3.7/site-packages (from fastai==2.7.1) (0.12.0)\r\n",
      "Requirement already satisfied: spacy<4 in /opt/conda/lib/python3.7/site-packages (from fastai==2.7.1) (3.3.1)\r\n",
      "Requirement already satisfied: torch<1.12,>=1.7.0 in /opt/conda/lib/python3.7/site-packages (from fastai==2.7.1) (1.11.0)\r\n",
      "Requirement already satisfied: packaging in /opt/conda/lib/python3.7/site-packages (from fastai==2.7.1) (21.3)\r\n"
     ]
    },
    {
     "name": "stdout",
     "output_type": "stream",
     "text": [
      "Requirement already satisfied: srsly<3.0.0,>=2.4.3 in /opt/conda/lib/python3.7/site-packages (from spacy<4->fastai==2.7.1) (2.4.3)\r\n",
      "Requirement already satisfied: pydantic!=1.8,!=1.8.1,<1.9.0,>=1.7.4 in /opt/conda/lib/python3.7/site-packages (from spacy<4->fastai==2.7.1) (1.8.2)\r\n",
      "Requirement already satisfied: numpy>=1.15.0 in /opt/conda/lib/python3.7/site-packages (from spacy<4->fastai==2.7.1) (1.21.6)\r\n",
      "Requirement already satisfied: spacy-legacy<3.1.0,>=3.0.9 in /opt/conda/lib/python3.7/site-packages (from spacy<4->fastai==2.7.1) (3.0.9)\r\n",
      "Requirement already satisfied: cymem<2.1.0,>=2.0.2 in /opt/conda/lib/python3.7/site-packages (from spacy<4->fastai==2.7.1) (2.0.6)\r\n",
      "Requirement already satisfied: pathy>=0.3.5 in /opt/conda/lib/python3.7/site-packages (from spacy<4->fastai==2.7.1) (0.6.2)\r\n",
      "Requirement already satisfied: tqdm<5.0.0,>=4.38.0 in /opt/conda/lib/python3.7/site-packages (from spacy<4->fastai==2.7.1) (4.64.0)\r\n",
      "Requirement already satisfied: thinc<8.1.0,>=8.0.14 in /opt/conda/lib/python3.7/site-packages (from spacy<4->fastai==2.7.1) (8.0.17)\r\n",
      "Requirement already satisfied: typing-extensions<4.2.0,>=3.7.4 in /opt/conda/lib/python3.7/site-packages (from spacy<4->fastai==2.7.1) (4.1.1)\r\n",
      "Requirement already satisfied: catalogue<2.1.0,>=2.0.6 in /opt/conda/lib/python3.7/site-packages (from spacy<4->fastai==2.7.1) (2.0.7)\r\n",
      "Requirement already satisfied: preshed<3.1.0,>=3.0.2 in /opt/conda/lib/python3.7/site-packages (from spacy<4->fastai==2.7.1) (3.0.6)\r\n",
      "Requirement already satisfied: murmurhash<1.1.0,>=0.28.0 in /opt/conda/lib/python3.7/site-packages (from spacy<4->fastai==2.7.1) (1.0.7)\r\n",
      "Requirement already satisfied: blis<0.8.0,>=0.4.0 in /opt/conda/lib/python3.7/site-packages (from spacy<4->fastai==2.7.1) (0.7.8)\r\n",
      "Requirement already satisfied: langcodes<4.0.0,>=3.2.0 in /opt/conda/lib/python3.7/site-packages (from spacy<4->fastai==2.7.1) (3.3.0)\r\n",
      "Requirement already satisfied: setuptools in /opt/conda/lib/python3.7/site-packages (from spacy<4->fastai==2.7.1) (59.8.0)\r\n",
      "Requirement already satisfied: jinja2 in /opt/conda/lib/python3.7/site-packages (from spacy<4->fastai==2.7.1) (3.1.2)\r\n",
      "Requirement already satisfied: spacy-loggers<2.0.0,>=1.0.0 in /opt/conda/lib/python3.7/site-packages (from spacy<4->fastai==2.7.1) (1.0.3)\r\n",
      "Requirement already satisfied: typer<0.5.0,>=0.3.0 in /opt/conda/lib/python3.7/site-packages (from spacy<4->fastai==2.7.1) (0.4.2)\r\n",
      "Requirement already satisfied: wasabi<1.1.0,>=0.9.1 in /opt/conda/lib/python3.7/site-packages (from spacy<4->fastai==2.7.1) (0.9.1)\r\n",
      "Requirement already satisfied: pyparsing!=3.0.5,>=2.0.2 in /opt/conda/lib/python3.7/site-packages (from packaging->fastai==2.7.1) (3.0.9)\r\n"
     ]
    },
    {
     "name": "stdout",
     "output_type": "stream",
     "text": [
      "Requirement already satisfied: idna<4,>=2.5 in /opt/conda/lib/python3.7/site-packages (from requests->fastai==2.7.1) (3.3)\r\n",
      "Requirement already satisfied: certifi>=2017.4.17 in /opt/conda/lib/python3.7/site-packages (from requests->fastai==2.7.1) (2022.6.15)\r\n",
      "Requirement already satisfied: charset-normalizer<3,>=2 in /opt/conda/lib/python3.7/site-packages (from requests->fastai==2.7.1) (2.1.0)\r\n",
      "Requirement already satisfied: urllib3<1.27,>=1.21.1 in /opt/conda/lib/python3.7/site-packages (from requests->fastai==2.7.1) (1.26.9)\r\n",
      "Requirement already satisfied: python-dateutil>=2.7 in /opt/conda/lib/python3.7/site-packages (from matplotlib->fastai==2.7.1) (2.8.2)\r\n",
      "Requirement already satisfied: cycler>=0.10 in /opt/conda/lib/python3.7/site-packages (from matplotlib->fastai==2.7.1) (0.11.0)\r\n",
      "Requirement already satisfied: fonttools>=4.22.0 in /opt/conda/lib/python3.7/site-packages (from matplotlib->fastai==2.7.1) (4.33.3)\r\n",
      "Requirement already satisfied: kiwisolver>=1.0.1 in /opt/conda/lib/python3.7/site-packages (from matplotlib->fastai==2.7.1) (1.4.3)\r\n",
      "Requirement already satisfied: pytz>=2017.3 in /opt/conda/lib/python3.7/site-packages (from pandas->fastai==2.7.1) (2022.1)\r\n"
     ]
    },
    {
     "name": "stdout",
     "output_type": "stream",
     "text": [
      "Requirement already satisfied: joblib>=0.11 in /opt/conda/lib/python3.7/site-packages (from scikit-learn->fastai==2.7.1) (1.0.1)\r\n",
      "Requirement already satisfied: threadpoolctl>=2.0.0 in /opt/conda/lib/python3.7/site-packages (from scikit-learn->fastai==2.7.1) (3.1.0)\r\n",
      "Requirement already satisfied: zipp>=0.5 in /opt/conda/lib/python3.7/site-packages (from catalogue<2.1.0,>=2.0.6->spacy<4->fastai==2.7.1) (3.8.0)\r\n"
     ]
    },
    {
     "name": "stdout",
     "output_type": "stream",
     "text": [
      "Requirement already satisfied: smart-open<6.0.0,>=5.2.1 in /opt/conda/lib/python3.7/site-packages (from pathy>=0.3.5->spacy<4->fastai==2.7.1) (5.2.1)\r\n"
     ]
    },
    {
     "name": "stdout",
     "output_type": "stream",
     "text": [
      "Requirement already satisfied: six>=1.5 in /opt/conda/lib/python3.7/site-packages (from python-dateutil>=2.7->matplotlib->fastai==2.7.1) (1.16.0)\r\n"
     ]
    },
    {
     "name": "stdout",
     "output_type": "stream",
     "text": [
      "Requirement already satisfied: click<9.0.0,>=7.1.1 in /opt/conda/lib/python3.7/site-packages (from typer<0.5.0,>=0.3.0->spacy<4->fastai==2.7.1) (8.0.4)\r\n"
     ]
    },
    {
     "name": "stdout",
     "output_type": "stream",
     "text": [
      "Requirement already satisfied: MarkupSafe>=2.0 in /opt/conda/lib/python3.7/site-packages (from jinja2->spacy<4->fastai==2.7.1) (2.0.1)\r\n",
      "Requirement already satisfied: importlib-metadata in /opt/conda/lib/python3.7/site-packages (from click<9.0.0,>=7.1.1->typer<0.5.0,>=0.3.0->spacy<4->fastai==2.7.1) (4.12.0)\r\n"
     ]
    },
    {
     "name": "stdout",
     "output_type": "stream",
     "text": [
      "Installing collected packages: fastcore, fastai\r\n",
      "  Attempting uninstall: fastcore\r\n",
      "    Found existing installation: fastcore 1.5.6\r\n"
     ]
    },
    {
     "name": "stdout",
     "output_type": "stream",
     "text": [
      "    Uninstalling fastcore-1.5.6:\r\n"
     ]
    },
    {
     "name": "stdout",
     "output_type": "stream",
     "text": [
      "      Successfully uninstalled fastcore-1.5.6\r\n"
     ]
    },
    {
     "name": "stdout",
     "output_type": "stream",
     "text": [
      "  Attempting uninstall: fastai\r\n",
      "    Found existing installation: fastai 2.7.7\r\n"
     ]
    },
    {
     "name": "stdout",
     "output_type": "stream",
     "text": [
      "    Uninstalling fastai-2.7.7:\r\n"
     ]
    },
    {
     "name": "stdout",
     "output_type": "stream",
     "text": [
      "      Successfully uninstalled fastai-2.7.7\r\n"
     ]
    },
    {
     "name": "stdout",
     "output_type": "stream",
     "text": [
      "Successfully installed fastai-2.7.1 fastcore-1.4.5\r\n",
      "\u001b[33mWARNING: Running pip as the 'root' user can result in broken permissions and conflicting behaviour with the system package manager. It is recommended to use a virtual environment instead: https://pip.pypa.io/warnings/venv\u001b[0m\u001b[33m\r\n",
      "\u001b[0m"
     ]
    },
    {
     "name": "stdout",
     "output_type": "stream",
     "text": [
      "\u001b[33mWARNING: Running pip as the 'root' user can result in broken permissions and conflicting behaviour with the system package manager. It is recommended to use a virtual environment instead: https://pip.pypa.io/warnings/venv\u001b[0m\u001b[33m\r\n",
      "\u001b[0m"
     ]
    }
   ],
   "source": [
    "!pip install fastai==2.7.1\n",
    "!pip install timm>=0.6.2.dev0"
   ]
  },
  {
   "cell_type": "code",
   "execution_count": null,
   "id": "8cd2fc15",
   "metadata": {
    "execution": {
     "iopub.execute_input": "2022-08-15T13:58:53.411713Z",
     "iopub.status.busy": "2022-08-15T13:58:53.409303Z",
     "iopub.status.idle": "2022-08-15T13:58:58.053181Z",
     "shell.execute_reply": "2022-08-15T13:58:58.051768Z",
     "shell.execute_reply.started": "2022-08-15T13:58:53.411668Z"
    },
    "papermill": {
     "duration": null,
     "end_time": null,
     "exception": false,
     "start_time": "2022-08-15T18:08:12.307679",
     "status": "running"
    },
    "tags": []
   },
   "outputs": [],
   "source": [
    "from fastai.vision.all import *\n",
    "import timm"
   ]
  },
  {
   "cell_type": "code",
   "execution_count": null,
   "id": "f810a135",
   "metadata": {
    "execution": {
     "iopub.execute_input": "2022-08-15T13:58:58.059634Z",
     "iopub.status.busy": "2022-08-15T13:58:58.058703Z",
     "iopub.status.idle": "2022-08-15T13:58:58.069043Z",
     "shell.execute_reply": "2022-08-15T13:58:58.068117Z",
     "shell.execute_reply.started": "2022-08-15T13:58:58.059592Z"
    },
    "papermill": {
     "duration": null,
     "end_time": null,
     "exception": null,
     "start_time": null,
     "status": "pending"
    },
    "tags": []
   },
   "outputs": [],
   "source": [
    "train_path = '../input/paddy-disease-classification/train_images'\n",
    "test_path = '../input/paddy-disease-classification/test_images'"
   ]
  },
  {
   "cell_type": "code",
   "execution_count": null,
   "id": "7345ad89",
   "metadata": {
    "execution": {
     "iopub.execute_input": "2022-08-15T13:58:58.079146Z",
     "iopub.status.busy": "2022-08-15T13:58:58.076436Z",
     "iopub.status.idle": "2022-08-15T13:59:00.367000Z",
     "shell.execute_reply": "2022-08-15T13:59:00.365900Z",
     "shell.execute_reply.started": "2022-08-15T13:58:58.079101Z"
    },
    "papermill": {
     "duration": null,
     "end_time": null,
     "exception": null,
     "start_time": null,
     "status": "pending"
    },
    "tags": []
   },
   "outputs": [],
   "source": [
    "test_files = get_image_files(test_path).sorted()"
   ]
  },
  {
   "cell_type": "code",
   "execution_count": null,
   "id": "d5c4850e",
   "metadata": {
    "execution": {
     "iopub.execute_input": "2022-08-15T13:59:00.374294Z",
     "iopub.status.busy": "2022-08-15T13:59:00.371867Z",
     "iopub.status.idle": "2022-08-15T13:59:11.725456Z",
     "shell.execute_reply": "2022-08-15T13:59:11.724321Z",
     "shell.execute_reply.started": "2022-08-15T13:59:00.374253Z"
    },
    "papermill": {
     "duration": null,
     "end_time": null,
     "exception": null,
     "start_time": null,
     "status": "pending"
    },
    "tags": []
   },
   "outputs": [],
   "source": [
    "# Load training Data\n",
    "dls = ImageDataLoaders.from_folder(train_path, valid_pct=0.1, item_tfms=Resize(640, 480), batch_tfms=aug_transforms(size=224, min_scale=0.75), bs=64//2)"
   ]
  },
  {
   "cell_type": "code",
   "execution_count": null,
   "id": "d371ac75",
   "metadata": {
    "execution": {
     "iopub.execute_input": "2022-08-15T13:59:11.733091Z",
     "iopub.status.busy": "2022-08-15T13:59:11.730614Z",
     "iopub.status.idle": "2022-08-15T13:59:20.280309Z",
     "shell.execute_reply": "2022-08-15T13:59:20.279111Z",
     "shell.execute_reply.started": "2022-08-15T13:59:11.733050Z"
    },
    "papermill": {
     "duration": null,
     "end_time": null,
     "exception": null,
     "start_time": null,
     "status": "pending"
    },
    "tags": []
   },
   "outputs": [],
   "source": [
    "learn = vision_learner(dls, 'beit_base_patch16_224_in22k', metrics=error_rate, cbs=GradientAccumulation(64), path='.').to_fp16()"
   ]
  },
  {
   "cell_type": "code",
   "execution_count": null,
   "id": "78106e96",
   "metadata": {
    "execution": {
     "iopub.execute_input": "2022-08-15T13:59:20.282918Z",
     "iopub.status.busy": "2022-08-15T13:59:20.282221Z",
     "iopub.status.idle": "2022-08-15T14:00:49.473705Z",
     "shell.execute_reply": "2022-08-15T14:00:49.472694Z",
     "shell.execute_reply.started": "2022-08-15T13:59:20.282881Z"
    },
    "papermill": {
     "duration": null,
     "end_time": null,
     "exception": null,
     "start_time": null,
     "status": "pending"
    },
    "tags": []
   },
   "outputs": [],
   "source": [
    "learn.lr_find(suggest_funcs=(valley, slide))"
   ]
  },
  {
   "cell_type": "code",
   "execution_count": null,
   "id": "d339cbfc",
   "metadata": {
    "execution": {
     "iopub.execute_input": "2022-08-15T14:00:49.480674Z",
     "iopub.status.busy": "2022-08-15T14:00:49.477939Z",
     "iopub.status.idle": "2022-08-15T17:50:33.584840Z",
     "shell.execute_reply": "2022-08-15T17:50:33.583571Z",
     "shell.execute_reply.started": "2022-08-15T14:00:49.480619Z"
    },
    "papermill": {
     "duration": null,
     "end_time": null,
     "exception": null,
     "start_time": null,
     "status": "pending"
    },
    "tags": []
   },
   "outputs": [],
   "source": [
    "learn.fine_tune(60, 0.003)"
   ]
  },
  {
   "cell_type": "code",
   "execution_count": null,
   "id": "104c6653",
   "metadata": {
    "execution": {
     "iopub.execute_input": "2022-08-15T17:50:33.592212Z",
     "iopub.status.busy": "2022-08-15T17:50:33.589536Z",
     "iopub.status.idle": "2022-08-15T17:55:39.814921Z",
     "shell.execute_reply": "2022-08-15T17:55:39.813397Z",
     "shell.execute_reply.started": "2022-08-15T17:50:33.592167Z"
    },
    "papermill": {
     "duration": null,
     "end_time": null,
     "exception": null,
     "start_time": null,
     "status": "pending"
    },
    "tags": []
   },
   "outputs": [],
   "source": [
    "preds,_ = learn.tta(dl=dls.test_dl(test_files), n=3)\n",
    "#Learner.tta (ds_idx=1, dl=None, n=4, item_tfms=None, batch_tfms=None, beta=0.25, use_max=False)\n",
    "#The final predictions are (1-beta) multiplied by this average + beta multiplied by the predictions obtained with the transforms of the dataset. Set beta to None to get a tuple of the predictions and tta results. You can also use the maximum of all predictions instead of an average by setting use_max=True."
   ]
  },
  {
   "cell_type": "code",
   "execution_count": null,
   "id": "b62dc634",
   "metadata": {
    "execution": {
     "iopub.execute_input": "2022-08-15T17:55:39.821104Z",
     "iopub.status.busy": "2022-08-15T17:55:39.820583Z",
     "iopub.status.idle": "2022-08-15T17:55:39.829365Z",
     "shell.execute_reply": "2022-08-15T17:55:39.828365Z",
     "shell.execute_reply.started": "2022-08-15T17:55:39.821071Z"
    },
    "papermill": {
     "duration": null,
     "end_time": null,
     "exception": null,
     "start_time": null,
     "status": "pending"
    },
    "tags": []
   },
   "outputs": [],
   "source": [
    "idxs = preds.argmax(dim=1)"
   ]
  },
  {
   "cell_type": "code",
   "execution_count": null,
   "id": "8f7df6ac",
   "metadata": {
    "execution": {
     "iopub.execute_input": "2022-08-15T17:55:39.831905Z",
     "iopub.status.busy": "2022-08-15T17:55:39.831169Z",
     "iopub.status.idle": "2022-08-15T17:55:39.853637Z",
     "shell.execute_reply": "2022-08-15T17:55:39.852618Z",
     "shell.execute_reply.started": "2022-08-15T17:55:39.831859Z"
    },
    "papermill": {
     "duration": null,
     "end_time": null,
     "exception": null,
     "start_time": null,
     "status": "pending"
    },
    "tags": []
   },
   "outputs": [],
   "source": [
    "vocab = np.array(dls.vocab)\n",
    "results = pd.Series(vocab[idxs], name=\"idxs\")"
   ]
  },
  {
   "cell_type": "code",
   "execution_count": null,
   "id": "e83dab08",
   "metadata": {
    "execution": {
     "iopub.execute_input": "2022-08-15T17:55:39.855853Z",
     "iopub.status.busy": "2022-08-15T17:55:39.855364Z",
     "iopub.status.idle": "2022-08-15T17:55:39.889943Z",
     "shell.execute_reply": "2022-08-15T17:55:39.888963Z",
     "shell.execute_reply.started": "2022-08-15T17:55:39.855818Z"
    },
    "papermill": {
     "duration": null,
     "end_time": null,
     "exception": null,
     "start_time": null,
     "status": "pending"
    },
    "tags": []
   },
   "outputs": [],
   "source": [
    "submit = pd.read_csv('../input/paddy-disease-classification/sample_submission.csv')\n",
    "submit['label'] = results\n",
    "submit.to_csv('beit_base_patch16_224_in22k_60_003.csv', index=False)"
   ]
  },
  {
   "cell_type": "code",
   "execution_count": null,
   "id": "7a6b5dce",
   "metadata": {
    "papermill": {
     "duration": null,
     "end_time": null,
     "exception": null,
     "start_time": null,
     "status": "pending"
    },
    "tags": []
   },
   "outputs": [],
   "source": []
  }
 ],
 "metadata": {
  "kernelspec": {
   "display_name": "Python 3",
   "language": "python",
   "name": "python3"
  },
  "language_info": {
   "codemirror_mode": {
    "name": "ipython",
    "version": 3
   },
   "file_extension": ".py",
   "mimetype": "text/x-python",
   "name": "python",
   "nbconvert_exporter": "python",
   "pygments_lexer": "ipython3",
   "version": "3.6.4"
  },
  "papermill": {
   "default_parameters": {},
   "duration": null,
   "end_time": null,
   "environment_variables": {},
   "exception": null,
   "input_path": "__notebook__.ipynb",
   "output_path": "__notebook__.ipynb",
   "parameters": {},
   "start_time": "2022-08-15T18:07:41.225635",
   "version": "2.3.4"
  }
 },
 "nbformat": 4,
 "nbformat_minor": 5
}